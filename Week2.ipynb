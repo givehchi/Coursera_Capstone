{
 "cells": [
  {
   "cell_type": "markdown",
   "metadata": {},
   "source": [
    "# Introduction: Business Problem\n",
    "The surprising weather conditions in Seattle is one of the most important motivations for doing this project. The weather can change drastically from sunny to rainy or snowy!\n",
    "\n",
    "For this project, I employed the old accident record and its severity along with other informations such as weather conditions, geographical conditions, number of pedestrains, number of injured peopel in car accident, time of the day, etc. I applied machine learning algorithem to predict the severity of the any future accidents based on mentioned features.\n",
    "\n",
    "The aim of this study is to determine under which weather conditions a severe accident is more likely to occur, so we can prevent the accident to be happened! In this case we can warn the drivers to avoid driving under certain conditions or in specific geographical locations\n"
   ]
  },
  {
   "cell_type": "markdown",
   "metadata": {},
   "source": [
    "# Data\n",
    "It is a large dataset with a dimension of 193673 x 38 (37 attributes are available in this dataset). The severity data is imbalanced as 126485 rows belongs to group 1 severitycode and 58188 rows belongs to group 2."
   ]
  },
  {
   "cell_type": "code",
   "execution_count": null,
   "metadata": {},
   "outputs": [],
   "source": []
  }
 ],
 "metadata": {
  "kernelspec": {
   "display_name": "Python 3",
   "language": "python",
   "name": "python3"
  },
  "language_info": {
   "codemirror_mode": {
    "name": "ipython",
    "version": 3
   },
   "file_extension": ".py",
   "mimetype": "text/x-python",
   "name": "python",
   "nbconvert_exporter": "python",
   "pygments_lexer": "ipython3",
   "version": "3.6.8"
  }
 },
 "nbformat": 4,
 "nbformat_minor": 4
}
